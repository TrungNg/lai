{
 "cells": [
  {
   "cell_type": "markdown",
   "metadata": {},
   "source": [
    "# LeonardoAI Challenge  \n",
    "\n",
    "Measuring the similarity scores of text-image pairs.  \n",
    "\n",
    "Done by: Trung Nguyen.  \n",
    "\n",
    "This work relies on OpenAI's CLIP model.  \n",
    "There are different variants of CLIP with varying model sizes and model accuracies. The rule of thumb is that the bigger size, CLIP provides better indications on the similarities for text-image pairs.  \n",
    "The range yielded by this model is from 0 to 100. The higher score the more similar.  \n",
    "It may be easier to see how similar a text and an image are by giving several candiates (images or text sequences) and compare (with softmax).  "
   ]
  },
  {
   "cell_type": "markdown",
   "metadata": {},
   "source": [
    "### Load libraries, set global variables and load csv data  "
   ]
  },
  {
   "cell_type": "code",
   "execution_count": 6,
   "metadata": {},
   "outputs": [
    {
     "data": {
      "text/html": [
       "<div>\n",
       "<style scoped>\n",
       "    .dataframe tbody tr th:only-of-type {\n",
       "        vertical-align: middle;\n",
       "    }\n",
       "\n",
       "    .dataframe tbody tr th {\n",
       "        vertical-align: top;\n",
       "    }\n",
       "\n",
       "    .dataframe thead th {\n",
       "        text-align: right;\n",
       "    }\n",
       "</style>\n",
       "<table border=\"1\" class=\"dataframe\">\n",
       "  <thead>\n",
       "    <tr style=\"text-align: right;\">\n",
       "      <th></th>\n",
       "      <th>url</th>\n",
       "      <th>caption</th>\n",
       "    </tr>\n",
       "  </thead>\n",
       "  <tbody>\n",
       "    <tr>\n",
       "      <th>0</th>\n",
       "      <td>https://cdn.leonardo.ai/users/85498bb1-9ae7-4b...</td>\n",
       "      <td>2 friendly real estate agent standing. one wit...</td>\n",
       "    </tr>\n",
       "    <tr>\n",
       "      <th>1</th>\n",
       "      <td>https://cdn.leonardo.ai/users/b5a9a19e-f630-4e...</td>\n",
       "      <td>vector pattern, pastel colors, in style kawai ...</td>\n",
       "    </tr>\n",
       "    <tr>\n",
       "      <th>2</th>\n",
       "      <td>https://cdn.leonardo.ai/users/925ced00-c573-43...</td>\n",
       "      <td>a young beautiful girl run away kitchen. got s...</td>\n",
       "    </tr>\n",
       "    <tr>\n",
       "      <th>3</th>\n",
       "      <td>https://cdn.leonardo.ai/users/61b0d7a9-8b0d-46...</td>\n",
       "      <td>Criança menino de 1 ano cabelo cacheado com as...</td>\n",
       "    </tr>\n",
       "    <tr>\n",
       "      <th>4</th>\n",
       "      <td>https://cdn.leonardo.ai/users/566cd98a-7e64-47...</td>\n",
       "      <td>A little girl wearing a red dress smiled. Play...</td>\n",
       "    </tr>\n",
       "  </tbody>\n",
       "</table>\n",
       "</div>"
      ],
      "text/plain": [
       "                                                 url  \\\n",
       "0  https://cdn.leonardo.ai/users/85498bb1-9ae7-4b...   \n",
       "1  https://cdn.leonardo.ai/users/b5a9a19e-f630-4e...   \n",
       "2  https://cdn.leonardo.ai/users/925ced00-c573-43...   \n",
       "3  https://cdn.leonardo.ai/users/61b0d7a9-8b0d-46...   \n",
       "4  https://cdn.leonardo.ai/users/566cd98a-7e64-47...   \n",
       "\n",
       "                                             caption  \n",
       "0  2 friendly real estate agent standing. one wit...  \n",
       "1  vector pattern, pastel colors, in style kawai ...  \n",
       "2  a young beautiful girl run away kitchen. got s...  \n",
       "3  Criança menino de 1 ano cabelo cacheado com as...  \n",
       "4  A little girl wearing a red dress smiled. Play...  "
      ]
     },
     "execution_count": 6,
     "metadata": {},
     "output_type": "execute_result"
    }
   ],
   "source": [
    "import os\n",
    "os.environ['CUDA_VISIBLE_DEVICES'] = \"0\"\n",
    "import pandas as pd\n",
    "import torch\n",
    "\n",
    "BASE_PATCH32       =  \"openai/clip-vit-base-patch32\"\n",
    "BASE_PATCH16       =  \"openai/clip-vit-base-patch16\"\n",
    "LARGE_PATCH14      =  \"openai/clip-vit-large-patch14\"\n",
    "LARGE_PATCH14_336  =  \"openai/clip-vit-large-patch14-336\"\n",
    "\n",
    "device = torch.device(\"cuda\" if torch.cuda.is_available() else \"cpu\")\n",
    "data_dir = \"data\"\n",
    "model_name = LARGE_PATCH14\n",
    "\n",
    "data = pd.read_csv(data_dir + \"/challenge_set.csv\")\n",
    "data[:5]\n"
   ]
  },
  {
   "cell_type": "markdown",
   "metadata": {},
   "source": [
    "#### Add a new column to the Dataframe for the similarity score"
   ]
  },
  {
   "cell_type": "code",
   "execution_count": 7,
   "metadata": {},
   "outputs": [
    {
     "data": {
      "text/html": [
       "<div>\n",
       "<style scoped>\n",
       "    .dataframe tbody tr th:only-of-type {\n",
       "        vertical-align: middle;\n",
       "    }\n",
       "\n",
       "    .dataframe tbody tr th {\n",
       "        vertical-align: top;\n",
       "    }\n",
       "\n",
       "    .dataframe thead th {\n",
       "        text-align: right;\n",
       "    }\n",
       "</style>\n",
       "<table border=\"1\" class=\"dataframe\">\n",
       "  <thead>\n",
       "    <tr style=\"text-align: right;\">\n",
       "      <th></th>\n",
       "      <th>url</th>\n",
       "      <th>caption</th>\n",
       "      <th>score</th>\n",
       "    </tr>\n",
       "  </thead>\n",
       "  <tbody>\n",
       "    <tr>\n",
       "      <th>0</th>\n",
       "      <td>https://cdn.leonardo.ai/users/85498bb1-9ae7-4b...</td>\n",
       "      <td>2 friendly real estate agent standing. one wit...</td>\n",
       "      <td>0.0</td>\n",
       "    </tr>\n",
       "    <tr>\n",
       "      <th>1</th>\n",
       "      <td>https://cdn.leonardo.ai/users/b5a9a19e-f630-4e...</td>\n",
       "      <td>vector pattern, pastel colors, in style kawai ...</td>\n",
       "      <td>0.0</td>\n",
       "    </tr>\n",
       "    <tr>\n",
       "      <th>2</th>\n",
       "      <td>https://cdn.leonardo.ai/users/925ced00-c573-43...</td>\n",
       "      <td>a young beautiful girl run away kitchen. got s...</td>\n",
       "      <td>0.0</td>\n",
       "    </tr>\n",
       "    <tr>\n",
       "      <th>3</th>\n",
       "      <td>https://cdn.leonardo.ai/users/61b0d7a9-8b0d-46...</td>\n",
       "      <td>Criança menino de 1 ano cabelo cacheado com as...</td>\n",
       "      <td>0.0</td>\n",
       "    </tr>\n",
       "    <tr>\n",
       "      <th>4</th>\n",
       "      <td>https://cdn.leonardo.ai/users/566cd98a-7e64-47...</td>\n",
       "      <td>A little girl wearing a red dress smiled. Play...</td>\n",
       "      <td>0.0</td>\n",
       "    </tr>\n",
       "  </tbody>\n",
       "</table>\n",
       "</div>"
      ],
      "text/plain": [
       "                                                 url  \\\n",
       "0  https://cdn.leonardo.ai/users/85498bb1-9ae7-4b...   \n",
       "1  https://cdn.leonardo.ai/users/b5a9a19e-f630-4e...   \n",
       "2  https://cdn.leonardo.ai/users/925ced00-c573-43...   \n",
       "3  https://cdn.leonardo.ai/users/61b0d7a9-8b0d-46...   \n",
       "4  https://cdn.leonardo.ai/users/566cd98a-7e64-47...   \n",
       "\n",
       "                                             caption  score  \n",
       "0  2 friendly real estate agent standing. one wit...    0.0  \n",
       "1  vector pattern, pastel colors, in style kawai ...    0.0  \n",
       "2  a young beautiful girl run away kitchen. got s...    0.0  \n",
       "3  Criança menino de 1 ano cabelo cacheado com as...    0.0  \n",
       "4  A little girl wearing a red dress smiled. Play...    0.0  "
      ]
     },
     "execution_count": 7,
     "metadata": {},
     "output_type": "execute_result"
    }
   ],
   "source": [
    "data['score'] = [0.0] * data.shape[0]\n",
    "data[:5]"
   ]
  },
  {
   "cell_type": "markdown",
   "metadata": {},
   "source": [
    "#### Find all image files"
   ]
  },
  {
   "cell_type": "code",
   "execution_count": 8,
   "metadata": {},
   "outputs": [
    {
     "name": "stdout",
     "output_type": "stream",
     "text": [
      "There are 51 images\n"
     ]
    }
   ],
   "source": [
    "from os import listdir\n",
    "\n",
    "img_files = [f for f in listdir(data_dir) if f[-3:]=='png']\n",
    "print(\"There are \" + str(len(img_files)) + \" images\")\n"
   ]
  },
  {
   "cell_type": "markdown",
   "metadata": {},
   "source": [
    "#### Algorithm statistics file"
   ]
  },
  {
   "cell_type": "code",
   "execution_count": 9,
   "metadata": {},
   "outputs": [],
   "source": [
    "import datetime\n",
    "now = datetime.datetime.now()\n",
    "\n",
    "def init_stats_file():\n",
    "    stats_file = \"stats.log\"\n",
    "    stats = open(stats_file, \"a\")\n",
    "\n",
    "    stats.write( str(now) + \", \" )\n",
    "    return stats\n",
    "\n",
    "stats = init_stats_file()\n"
   ]
  },
  {
   "cell_type": "markdown",
   "metadata": {},
   "source": [
    "### Calculate similarity scores here and save to \"results.csv\", running stats are saved to \"stats.log\"  \n",
    "\n",
    "Stats \"Time\" sums both CPU and GPU time, which differs from the waiting time. The waiting time is of the scale of several seconds (e.g. 7.7s as shown below).  "
   ]
  },
  {
   "cell_type": "code",
   "execution_count": 10,
   "metadata": {},
   "outputs": [
    {
     "name": "stderr",
     "output_type": "stream",
     "text": [
      "`text_config_dict` is provided which will be used to initialize `CLIPTextConfig`. The value `text_config[\"id2label\"]` will be overriden.\n",
      "`text_config_dict` is provided which will be used to initialize `CLIPTextConfig`. The value `text_config[\"bos_token_id\"]` will be overriden.\n",
      "`text_config_dict` is provided which will be used to initialize `CLIPTextConfig`. The value `text_config[\"eos_token_id\"]` will be overriden.\n"
     ]
    }
   ],
   "source": [
    "from PIL import Image\n",
    "#import requests\n",
    "\n",
    "from transformers import CLIPProcessor, CLIPModel\n",
    "from os.path import join\n",
    "\n",
    "if stats.closed:\n",
    "    stats = init_stats_file()\n",
    "\n",
    "model = CLIPModel.from_pretrained(model_name).to(device)\n",
    "stats.write(f\"Loaded model: {torch.cuda.max_memory_allocated(device=None) / (1024**3):.1f} GPU memory, \")\n",
    "processor = CLIPProcessor.from_pretrained(model_name)\n",
    "\n",
    "start = torch.cuda.Event(enable_timing=True)\n",
    "end = torch.cuda.Event(enable_timing=True)\n",
    "\n",
    "start.record()\n",
    "\n",
    "for imfile in img_files:\n",
    "    image = Image.open(join(data_dir, imfile))\n",
    "    caption = data.loc[ data['url'].str.contains(imfile[:-4]), 'caption'].values[0]\n",
    "    \n",
    "    inputs = processor(text=caption, images=image, return_tensors=\"pt\", padding=\"longest\", truncation=True, max_length=77)\n",
    "\n",
    "    outputs = model(**inputs.to(device))\n",
    "    logits_per_image = outputs.logits_per_image # this is the image-text similarity score\n",
    "    data.loc[ data['url'].str.contains(imfile[:-4]), 'score'] = logits_per_image[0,0].item()\n",
    "\n",
    "end.record()\n",
    "stats.write(f\"Running: {torch.cuda.max_memory_allocated(device=None) / (1024**3):.1f} GPU memory, \")\n",
    "\n",
    "data.to_csv(\"results.csv\", index=False)\n",
    "\n",
    "# Waits for everything to finish running\n",
    "torch.cuda.synchronize()\n",
    "stats.write(\"Time: \" + str(start.elapsed_time(end)) + \" seconds\\n\")\n",
    "stats.close()"
   ]
  }
 ],
 "metadata": {
  "kernelspec": {
   "display_name": "ai_common",
   "language": "python",
   "name": "python3"
  },
  "language_info": {
   "codemirror_mode": {
    "name": "ipython",
    "version": 3
   },
   "file_extension": ".py",
   "mimetype": "text/x-python",
   "name": "python",
   "nbconvert_exporter": "python",
   "pygments_lexer": "ipython3",
   "version": "3.8.10"
  }
 },
 "nbformat": 4,
 "nbformat_minor": 2
}
